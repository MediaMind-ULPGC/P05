{
 "cells": [
  {
   "cell_type": "markdown",
   "metadata": {},
   "source": [
    "# Práctica 4: Detección de características \n",
    "\n",
    "## Participantes:\n",
    "- Gerardo León Quintana\n",
    "- Susana Suárez Mendoza"
   ]
  },
  {
   "cell_type": "code",
   "execution_count": null,
   "metadata": {},
   "outputs": [],
   "source": []
  },
  {
   "cell_type": "markdown",
   "metadata": {},
   "source": [
    "## Ejercicio 1: \n",
    "\n",
    "Desarrolle una aplicación que permita:\n",
    "\n",
    "a. A través de la interfaz modificar los parámetros del detector de características SIFT.\n",
    "\n",
    "b. Seleccionar un área de interés en una imagen de elección una imagen de naturaleza médica y una imagen telemétrica. \n",
    "\n",
    "c. Buscar esa área de interés (recuádrela en rojo) dentro de diferentes versiones de la imagen de partida (con cambios de traslación, escala y rotación) [NOTA: Estos cambios se pueden acometer con un editor de imágenes o con el trabajo hecho en prácticas previas]. Altere mediante la interfaz las configuraciones de parámetros para mejorar la detección. \n",
    "\n",
    "d. Pruebe a hacer lo mismo que en el apartado c. con diferentes grados de deformación de la imagen. [NOTA: Estos cambios se pueden acometer con un editor de imágenes o con el trabajo hecho en prácticas previas].\n",
    "\n",
    "(OPICIONAL)\n",
    "A partir del detector de características “corrija” la imagen alterada para que se alinee con la imagen fuente. \n",
    "NOTA 1: Si no encuentra el área de interés la aplicación debería notificarlo. \n",
    "NOTA 2: Puede preprocesar la imagen con alguna técnica (suavizado, contrastado,…) si lo estima necesario."
   ]
  },
  {
   "cell_type": "markdown",
   "metadata": {},
   "source": []
  }
 ],
 "metadata": {
  "language_info": {
   "name": "python"
  }
 },
 "nbformat": 4,
 "nbformat_minor": 2
}
