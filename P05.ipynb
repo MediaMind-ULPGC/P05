{
 "cells": [
  {
   "cell_type": "markdown",
   "metadata": {},
   "source": [
    "# Práctica 4: Detección de características \n",
    "\n",
    "## Participantes:\n",
    "- Gerardo León Quintana\n",
    "- Susana Suárez Mendoza"
   ]
  },
  {
   "cell_type": "code",
   "execution_count": 1,
   "metadata": {},
   "outputs": [],
   "source": [
    "import cv2 as cv\n",
    "import numpy as np"
   ]
  },
  {
   "cell_type": "markdown",
   "metadata": {},
   "source": [
    "## Ejercicio 1: \n",
    "\n",
    "Desarrolle una aplicación que permita:\n",
    "\n",
    "a. A través de la interfaz modificar los parámetros del detector de características SIFT.\n",
    "\n",
    "b. Seleccionar un área de interés en una imagen de elección una imagen de naturaleza médica y una imagen telemétrica. \n",
    "\n",
    "c. Buscar esa área de interés (recuádrela en rojo) dentro de diferentes versiones de la imagen de partida (con cambios de traslación, escala y rotación) [NOTA: Estos cambios se pueden acometer con un editor de imágenes o con el trabajo hecho en prácticas previas]. Altere mediante la interfaz las configuraciones de parámetros para mejorar la detección. \n",
    "\n",
    "d. Pruebe a hacer lo mismo que en el apartado c. con diferentes grados de deformación de la imagen. [NOTA: Estos cambios se pueden acometer con un editor de imágenes o con el trabajo hecho en prácticas previas].\n",
    "\n",
    "(OPICIONAL)\n",
    "A partir del detector de características “corrija” la imagen alterada para que se alinee con la imagen fuente. \n",
    "NOTA 1: Si no encuentra el área de interés la aplicación debería notificarlo. \n",
    "NOTA 2: Puede preprocesar la imagen con alguna técnica (suavizado, contrastado,…) si lo estima necesario."
   ]
  },
  {
   "cell_type": "code",
   "execution_count": 10,
   "metadata": {},
   "outputs": [],
   "source": [
    "img = np.zeros((1024, 1024, 3), dtype=np.uint8) + 255\n",
    "img_orig = img.copy()\n",
    "drawing = False \n",
    "\n",
    "# Parámetros de SIFT por defecto\n",
    "nfeatures = 500\n",
    "nOctaveLayers = 3\n",
    "contrastThreshold = 0.04\n",
    "edgeThreshold = 10\n",
    "sigma = 1.6\n",
    "\n",
    "def nothing(x):\n",
    "    pass\n",
    "\n",
    "def draw_shape(event, x, y, flags, param):\n",
    "    global start_point, drawing\n",
    "\n",
    "    color = (255, 0, 0)\n",
    "    thickness = 2\n",
    "\n",
    "    if event == cv.EVENT_LBUTTONDOWN:\n",
    "        drawing = True\n",
    "        start_point = (x, y)\n",
    "\n",
    "    # Dibujar la figura mientras se mueve el mouse\n",
    "    elif event == cv.EVENT_MOUSEMOVE:\n",
    "        if drawing:\n",
    "            img_copy = img.copy()\n",
    "            cv.rectangle(img_copy, start_point, (x, y), color, thickness)\n",
    "            cv.imshow('image', img_copy)\n",
    "\n",
    "    # Dibujar la figura al soltar el click\n",
    "    elif event == cv.EVENT_LBUTTONUP:\n",
    "        drawing = False\n",
    "        cv.rectangle(img, start_point, (x, y), color, thickness)\n",
    "        cv.imshow('image', img)\n",
    "\n",
    "cv.namedWindow('image')\n",
    "cv.setMouseCallback('image', draw_shape)\n",
    "cv.createTrackbar('Features', 'image', nfeatures, 800, nothing)\n",
    "cv.createTrackbar('Layers', 'image', nOctaveLayers, 10, nothing)\n",
    "cv.createTrackbar('Contrast', 'image', int(contrastThreshold*100), 100, nothing)\n",
    "cv.createTrackbar('Edge', 'image', edgeThreshold, 100, nothing)\n",
    "cv.createTrackbar('Sigma', 'image', int(sigma*10), 100, nothing)\n",
    "\n",
    "cv.imshow('image', img)\n",
    "\n",
    "while True:\n",
    "    \n",
    "    key = cv.waitKey(1) & 0xFF\n",
    "\n",
    "    if key == 27:\n",
    "        break\n",
    "\n",
    "cv.destroyAllWindows()\n"
   ]
  },
  {
   "cell_type": "code",
   "execution_count": null,
   "metadata": {},
   "outputs": [],
   "source": [
    "#hola"
   ]
  }
 ],
 "metadata": {
  "kernelspec": {
   "display_name": "piav",
   "language": "python",
   "name": "python3"
  },
  "language_info": {
   "codemirror_mode": {
    "name": "ipython",
    "version": 3
   },
   "file_extension": ".py",
   "mimetype": "text/x-python",
   "name": "python",
   "nbconvert_exporter": "python",
   "pygments_lexer": "ipython3",
   "version": "3.10.14"
  }
 },
 "nbformat": 4,
 "nbformat_minor": 2
}
